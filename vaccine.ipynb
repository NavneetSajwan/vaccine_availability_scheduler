{
 "metadata": {
  "language_info": {
   "codemirror_mode": {
    "name": "ipython",
    "version": 3
   },
   "file_extension": ".py",
   "mimetype": "text/x-python",
   "name": "python",
   "nbconvert_exporter": "python",
   "pygments_lexer": "ipython3",
   "version": "3.7.10"
  },
  "orig_nbformat": 2,
  "kernelspec": {
   "name": "python3710jvsc74a57bd0b706f0561026feec0714d4594546c153043b7ffb26d9517d6ae6ff4b4daac37a",
   "display_name": "Python 3.7.10 64-bit ('vaccine': conda)"
  },
  "metadata": {
   "interpreter": {
    "hash": "b706f0561026feec0714d4594546c153043b7ffb26d9517d6ae6ff4b4daac37a"
   }
  }
 },
 "nbformat": 4,
 "nbformat_minor": 2,
 "cells": [
  {
   "cell_type": "code",
   "execution_count": 1,
   "metadata": {},
   "outputs": [],
   "source": [
    "import requests\n",
    "import smtplib\n",
    "import datetime"
   ]
  },
  {
   "cell_type": "code",
   "execution_count": 2,
   "metadata": {},
   "outputs": [],
   "source": [
    "url = 'https://cdn-api.co-vin.in/api/v2/appointment/sessions/public/findByPin'"
   ]
  },
  {
   "cell_type": "code",
   "execution_count": 3,
   "metadata": {},
   "outputs": [],
   "source": [
    "headers = {'User-Agent': 'Mozilla/5.0 (Windows NT 6.1; WOW64) AppleWebKit/537.36 (KHTML, like Gecko) Chrome/56.0.2924.76 Safari/537.36'} # This is chrome, you can set whatever browser you like"
   ]
  },
  {
   "cell_type": "code",
   "execution_count": 4,
   "metadata": {},
   "outputs": [
    {
     "output_type": "execute_result",
     "data": {
      "text/plain": [
       "[{'center_id': 444564,\n",
       "  'name': 'Gandhi Shatabdi Eye Hospital',\n",
       "  'address': 'Gandhi Shatabdi Eye Hospital',\n",
       "  'state_name': 'Uttarakhand',\n",
       "  'district_name': 'Dehradun',\n",
       "  'block_name': 'Raipur',\n",
       "  'pincode': 248001,\n",
       "  'from': '09:00:00',\n",
       "  'to': '17:00:00',\n",
       "  'lat': 30,\n",
       "  'long': 78,\n",
       "  'fee_type': 'Free',\n",
       "  'session_id': '2c2299ba-f7ba-4ad5-bbe8-4098073839a8',\n",
       "  'date': '17-05-2021',\n",
       "  'available_capacity_dose1': 0,\n",
       "  'available_capacity_dose2': 9,\n",
       "  'available_capacity': 9,\n",
       "  'fee': '0',\n",
       "  'min_age_limit': 45,\n",
       "  'vaccine': 'COVISHIELD',\n",
       "  'slots': ['09:00AM-11:00AM',\n",
       "   '11:00AM-01:00PM',\n",
       "   '01:00PM-03:00PM',\n",
       "   '03:00PM-05:00PM']},\n",
       " {'center_id': 563078,\n",
       "  'name': 'Govt Doon Medical College',\n",
       "  'address': 'New Road Race Dehradun',\n",
       "  'state_name': 'Uttarakhand',\n",
       "  'district_name': 'Dehradun',\n",
       "  'block_name': 'Raipur',\n",
       "  'pincode': 248001,\n",
       "  'from': '09:00:00',\n",
       "  'to': '17:00:00',\n",
       "  'lat': 30,\n",
       "  'long': 78,\n",
       "  'fee_type': 'Free',\n",
       "  'session_id': 'a6f46e17-8384-42d7-aa80-fe3d46b97cb7',\n",
       "  'date': '17-05-2021',\n",
       "  'available_capacity_dose1': 0,\n",
       "  'available_capacity_dose2': 10,\n",
       "  'available_capacity': 10,\n",
       "  'fee': '0',\n",
       "  'min_age_limit': 45,\n",
       "  'vaccine': 'COVISHIELD',\n",
       "  'slots': ['09:00AM-11:00AM',\n",
       "   '11:00AM-01:00PM',\n",
       "   '01:00PM-03:00PM',\n",
       "   '03:00PM-05:00PM']},\n",
       " {'center_id': 571612,\n",
       "  'name': 'MS Residence GDMC Hos(COVAXIN)',\n",
       "  'address': 'New Road Race Course',\n",
       "  'state_name': 'Uttarakhand',\n",
       "  'district_name': 'Dehradun',\n",
       "  'block_name': 'Raipur',\n",
       "  'pincode': 248001,\n",
       "  'from': '09:00:00',\n",
       "  'to': '17:00:00',\n",
       "  'lat': 30,\n",
       "  'long': 78,\n",
       "  'fee_type': 'Free',\n",
       "  'session_id': 'b9a57c9a-3122-4f06-8c28-b54f132ae9fc',\n",
       "  'date': '17-05-2021',\n",
       "  'available_capacity_dose1': 0,\n",
       "  'available_capacity_dose2': 47,\n",
       "  'available_capacity': 47,\n",
       "  'fee': '0',\n",
       "  'min_age_limit': 45,\n",
       "  'vaccine': 'COVAXIN',\n",
       "  'slots': ['09:00AM-11:00AM',\n",
       "   '11:00AM-01:00PM',\n",
       "   '01:00PM-03:00PM',\n",
       "   '03:00PM-05:00PM']}]"
      ]
     },
     "metadata": {},
     "execution_count": 4
    }
   ],
   "source": [
    "params = {'pincode':'248001', 'date':'17-05-2021'}\n",
    "result = requests.get(url, params = params, headers = headers).json()\n",
    "result['sessions']"
   ]
  },
  {
   "cell_type": "code",
   "execution_count": 6,
   "metadata": {},
   "outputs": [
    {
     "output_type": "stream",
     "name": "stdout",
     "text": [
      "16\n",
      "S.K. MEMORIAL HOSPITAL\n",
      "45\n",
      "True\n",
      "17\n"
     ]
    }
   ],
   "source": [
    "availability = False\n",
    "current_time = datetime.datetime.now() \n",
    "today = current_time.day\n",
    "today, month, year = current_time.day, current_time.month, current_time.year+\n",
    "for day in range(today,today+8):\n",
    "    print(day)\n",
    "    if availability==True:\n",
    "        break\n",
    "\n",
    "\n",
    "    date  = f\"{day}-{month}-{year}\"\n",
    "    params = {'pincode':'248001', 'date':date}\n",
    "    result = requests.get(url, params = params, headers = headers).json()\n",
    "\n",
    "    for hospital_dict in result['sessions']:\n",
    "        print(hospital_dict['name'])\n",
    "        print(hospital_dict['min_age_limit'])\n",
    "        age = hospital_dict['min_age_limit']\n",
    "        dose1 = hospital_dict['available_capacity_dose1']\n",
    "        if age <50 and dose1>0:\n",
    "            availability = True \n",
    "            break\n",
    "    print(availability)\n",
    "\n",
    "receivers = [\"navneetsinghsajwan@gmail.com\",\"imankitsajwan@gmail.com\"]\n",
    "\n",
    "if availability==True:\n",
    "    s = smtplib.SMTP('smtp.gmail.com', 587)\n",
    "    s.starttls()\n",
    "    s.login(\"iamnavneet619@gmail.com\", sender_password)\n",
    "    s.sendmail(\"iamnavneet619@gmail.com\", receivers, \"Vaccine Available\")\n",
    "    s.quit()\n"
   ]
  },
  {
   "cell_type": "code",
   "execution_count": null,
   "metadata": {},
   "outputs": [],
   "source": []
  },
  {
   "cell_type": "code",
   "execution_count": 7,
   "metadata": {},
   "outputs": [],
   "source": [
    "def check_availability():\n",
    "    availability = False\n",
    "    current_time = datetime.datetime.now() \n",
    "    today = current_time.day\n",
    "    today, month, year = current_time.day, current_time.month, current_time.year\n",
    "    for day in range(today,today+8):\n",
    "        print(day)\n",
    "        if availability==True:\n",
    "            break\n",
    "\n",
    "\n",
    "        date  = f\"{day}-{month}-{year}\"\n",
    "        params = {'pincode':'248001', 'date':date}\n",
    "        result = requests.get(url, params = params, headers = headers).json()\n",
    "\n",
    "        for hospital_dict in result['sessions']:\n",
    "            print(hospital_dict['name'])\n",
    "            print(hospital_dict['min_age_limit'])\n",
    "            age = hospital_dict['min_age_limit']\n",
    "            if age <50:\n",
    "                availability = True \n",
    "                break\n",
    "        print(availability)\n",
    "\n",
    "    receivers = [\"navneetsinghsajwan@gmail.com\",]\n",
    "\n",
    "    if availability==True:\n",
    "        s = smtplib.SMTP('smtp.gmail.com', 587)\n",
    "        s.starttls()\n",
    "        s.login(\"iamnavneet619@gmail.com\", sender_password)\n",
    "        s.sendmail(\"iamnavneet619@gmail.com\", receivers, \"Vaccine Available\")\n",
    "        s.quit()"
   ]
  },
  {
   "cell_type": "code",
   "execution_count": 9,
   "metadata": {},
   "outputs": [
    {
     "output_type": "error",
     "ename": "KeyboardInterrupt",
     "evalue": "",
     "traceback": [
      "\u001b[0;31m---------------------------------------------------------------------------\u001b[0m",
      "\u001b[0;31mKeyboardInterrupt\u001b[0m                         Traceback (most recent call last)",
      "\u001b[0;32m<ipython-input-9-3db85a411044>\u001b[0m in \u001b[0;36m<module>\u001b[0;34m\u001b[0m\n\u001b[1;32m     16\u001b[0m         \u001b[0;31m# Checks whether a scheduled task\u001b[0m\u001b[0;34m\u001b[0m\u001b[0;34m\u001b[0m\u001b[0;34m\u001b[0m\u001b[0m\n\u001b[1;32m     17\u001b[0m         \u001b[0;31m# is pending to run or not\u001b[0m\u001b[0;34m\u001b[0m\u001b[0;34m\u001b[0m\u001b[0;34m\u001b[0m\u001b[0m\n\u001b[0;32m---> 18\u001b[0;31m         \u001b[0mschedule\u001b[0m\u001b[0;34m.\u001b[0m\u001b[0mrun_pending\u001b[0m\u001b[0;34m(\u001b[0m\u001b[0;34m)\u001b[0m\u001b[0;34m\u001b[0m\u001b[0;34m\u001b[0m\u001b[0m\n\u001b[0m\u001b[1;32m     19\u001b[0m         \u001b[0;31m# time.sleep(1)\u001b[0m\u001b[0;34m\u001b[0m\u001b[0;34m\u001b[0m\u001b[0;34m\u001b[0m\u001b[0m\n",
      "\u001b[0;32m~/miniconda3/envs/vaccine/lib/python3.7/site-packages/schedule/__init__.py\u001b[0m in \u001b[0;36mrun_pending\u001b[0;34m()\u001b[0m\n\u001b[1;32m    778\u001b[0m     \u001b[0;34m:\u001b[0m\u001b[0mdata\u001b[0m\u001b[0;34m:\u001b[0m\u001b[0;31m`\u001b[0m\u001b[0mdefault\u001b[0m \u001b[0mscheduler\u001b[0m \u001b[0minstance\u001b[0m \u001b[0;34m<\u001b[0m\u001b[0mdefault_scheduler\u001b[0m\u001b[0;34m>\u001b[0m\u001b[0;31m`\u001b[0m\u001b[0;34m.\u001b[0m\u001b[0;34m\u001b[0m\u001b[0;34m\u001b[0m\u001b[0m\n\u001b[1;32m    779\u001b[0m     \"\"\"\n\u001b[0;32m--> 780\u001b[0;31m     \u001b[0mdefault_scheduler\u001b[0m\u001b[0;34m.\u001b[0m\u001b[0mrun_pending\u001b[0m\u001b[0;34m(\u001b[0m\u001b[0;34m)\u001b[0m\u001b[0;34m\u001b[0m\u001b[0;34m\u001b[0m\u001b[0m\n\u001b[0m\u001b[1;32m    781\u001b[0m \u001b[0;34m\u001b[0m\u001b[0m\n\u001b[1;32m    782\u001b[0m \u001b[0;34m\u001b[0m\u001b[0m\n",
      "\u001b[0;32m~/miniconda3/envs/vaccine/lib/python3.7/site-packages/schedule/__init__.py\u001b[0m in \u001b[0;36mrun_pending\u001b[0;34m(self)\u001b[0m\n\u001b[1;32m     97\u001b[0m         \"\"\"\n\u001b[1;32m     98\u001b[0m         \u001b[0mrunnable_jobs\u001b[0m \u001b[0;34m=\u001b[0m \u001b[0;34m(\u001b[0m\u001b[0mjob\u001b[0m \u001b[0;32mfor\u001b[0m \u001b[0mjob\u001b[0m \u001b[0;32min\u001b[0m \u001b[0mself\u001b[0m\u001b[0;34m.\u001b[0m\u001b[0mjobs\u001b[0m \u001b[0;32mif\u001b[0m \u001b[0mjob\u001b[0m\u001b[0;34m.\u001b[0m\u001b[0mshould_run\u001b[0m\u001b[0;34m)\u001b[0m\u001b[0;34m\u001b[0m\u001b[0;34m\u001b[0m\u001b[0m\n\u001b[0;32m---> 99\u001b[0;31m         \u001b[0;32mfor\u001b[0m \u001b[0mjob\u001b[0m \u001b[0;32min\u001b[0m \u001b[0msorted\u001b[0m\u001b[0;34m(\u001b[0m\u001b[0mrunnable_jobs\u001b[0m\u001b[0;34m)\u001b[0m\u001b[0;34m:\u001b[0m\u001b[0;34m\u001b[0m\u001b[0;34m\u001b[0m\u001b[0m\n\u001b[0m\u001b[1;32m    100\u001b[0m             \u001b[0mself\u001b[0m\u001b[0;34m.\u001b[0m\u001b[0m_run_job\u001b[0m\u001b[0;34m(\u001b[0m\u001b[0mjob\u001b[0m\u001b[0;34m)\u001b[0m\u001b[0;34m\u001b[0m\u001b[0;34m\u001b[0m\u001b[0m\n\u001b[1;32m    101\u001b[0m \u001b[0;34m\u001b[0m\u001b[0m\n",
      "\u001b[0;32m~/miniconda3/envs/vaccine/lib/python3.7/site-packages/schedule/__init__.py\u001b[0m in \u001b[0;36m<genexpr>\u001b[0;34m(.0)\u001b[0m\n\u001b[1;32m     96\u001b[0m         \u001b[0mbetween\u001b[0m \u001b[0mbut\u001b[0m \u001b[0monly\u001b[0m \u001b[0monce\u001b[0m\u001b[0;34m.\u001b[0m\u001b[0;34m\u001b[0m\u001b[0;34m\u001b[0m\u001b[0m\n\u001b[1;32m     97\u001b[0m         \"\"\"\n\u001b[0;32m---> 98\u001b[0;31m         \u001b[0mrunnable_jobs\u001b[0m \u001b[0;34m=\u001b[0m \u001b[0;34m(\u001b[0m\u001b[0mjob\u001b[0m \u001b[0;32mfor\u001b[0m \u001b[0mjob\u001b[0m \u001b[0;32min\u001b[0m \u001b[0mself\u001b[0m\u001b[0;34m.\u001b[0m\u001b[0mjobs\u001b[0m \u001b[0;32mif\u001b[0m \u001b[0mjob\u001b[0m\u001b[0;34m.\u001b[0m\u001b[0mshould_run\u001b[0m\u001b[0;34m)\u001b[0m\u001b[0;34m\u001b[0m\u001b[0;34m\u001b[0m\u001b[0m\n\u001b[0m\u001b[1;32m     99\u001b[0m         \u001b[0;32mfor\u001b[0m \u001b[0mjob\u001b[0m \u001b[0;32min\u001b[0m \u001b[0msorted\u001b[0m\u001b[0;34m(\u001b[0m\u001b[0mrunnable_jobs\u001b[0m\u001b[0;34m)\u001b[0m\u001b[0;34m:\u001b[0m\u001b[0;34m\u001b[0m\u001b[0;34m\u001b[0m\u001b[0m\n\u001b[1;32m    100\u001b[0m             \u001b[0mself\u001b[0m\u001b[0;34m.\u001b[0m\u001b[0m_run_job\u001b[0m\u001b[0;34m(\u001b[0m\u001b[0mjob\u001b[0m\u001b[0;34m)\u001b[0m\u001b[0;34m\u001b[0m\u001b[0;34m\u001b[0m\u001b[0m\n",
      "\u001b[0;32m~/miniconda3/envs/vaccine/lib/python3.7/site-packages/schedule/__init__.py\u001b[0m in \u001b[0;36mshould_run\u001b[0;34m(self)\u001b[0m\n\u001b[1;32m    640\u001b[0m         \"\"\"\n\u001b[1;32m    641\u001b[0m         \u001b[0;32massert\u001b[0m \u001b[0mself\u001b[0m\u001b[0;34m.\u001b[0m\u001b[0mnext_run\u001b[0m \u001b[0;32mis\u001b[0m \u001b[0;32mnot\u001b[0m \u001b[0;32mNone\u001b[0m\u001b[0;34m,\u001b[0m \u001b[0;34m\"must run _schedule_next_run before\"\u001b[0m\u001b[0;34m\u001b[0m\u001b[0;34m\u001b[0m\u001b[0m\n\u001b[0;32m--> 642\u001b[0;31m         \u001b[0;32mreturn\u001b[0m \u001b[0mdatetime\u001b[0m\u001b[0;34m.\u001b[0m\u001b[0mdatetime\u001b[0m\u001b[0;34m.\u001b[0m\u001b[0mnow\u001b[0m\u001b[0;34m(\u001b[0m\u001b[0;34m)\u001b[0m \u001b[0;34m>=\u001b[0m \u001b[0mself\u001b[0m\u001b[0;34m.\u001b[0m\u001b[0mnext_run\u001b[0m\u001b[0;34m\u001b[0m\u001b[0;34m\u001b[0m\u001b[0m\n\u001b[0m\u001b[1;32m    643\u001b[0m \u001b[0;34m\u001b[0m\u001b[0m\n\u001b[1;32m    644\u001b[0m     \u001b[0;32mdef\u001b[0m \u001b[0mrun\u001b[0m\u001b[0;34m(\u001b[0m\u001b[0mself\u001b[0m\u001b[0;34m)\u001b[0m\u001b[0;34m:\u001b[0m\u001b[0;34m\u001b[0m\u001b[0;34m\u001b[0m\u001b[0m\n",
      "\u001b[0;31mKeyboardInterrupt\u001b[0m: "
     ]
    }
   ],
   "source": [
    "# Schedule Library imported\n",
    "import schedule\n",
    "import time\n",
    "\n",
    "# Functions setup\n",
    "\n",
    "def geeks():\n",
    "\tprint(\"Shaurya says Geeksforgeeks\")\n",
    "\n",
    "# Task scheduling\n",
    "# After every 10mins geeks() is called.\n",
    "schedule.every(5).minutes.do(check_availability)\n",
    "\n",
    "while True:\n",
    "\n",
    "\t# Checks whether a scheduled task\n",
    "\t# is pending to run or not\n",
    "\tschedule.run_pending()\n",
    "\t# time.sleep(1)\n"
   ]
  },
  {
   "cell_type": "code",
   "execution_count": 11,
   "metadata": {},
   "outputs": [
    {
     "output_type": "stream",
     "name": "stdout",
     "text": [
      "Shaurya says Geeksforgeeks\n",
      "Shaurya says Geeksforgeeks\n",
      "Shaurya says Geeksforgeeks\n",
      "Shaurya says Geeksforgeeks\n"
     ]
    },
    {
     "output_type": "error",
     "ename": "KeyboardInterrupt",
     "evalue": "",
     "traceback": [
      "\u001b[0;31m---------------------------------------------------------------------------\u001b[0m",
      "\u001b[0;31mKeyboardInterrupt\u001b[0m                         Traceback (most recent call last)",
      "\u001b[0;32m<ipython-input-11-b16fdd2257ad>\u001b[0m in \u001b[0;36m<module>\u001b[0;34m\u001b[0m\n\u001b[1;32m     45\u001b[0m         \u001b[0;31m# is pending to run or not\u001b[0m\u001b[0;34m\u001b[0m\u001b[0;34m\u001b[0m\u001b[0;34m\u001b[0m\u001b[0m\n\u001b[1;32m     46\u001b[0m         \u001b[0mschedule\u001b[0m\u001b[0;34m.\u001b[0m\u001b[0mrun_pending\u001b[0m\u001b[0;34m(\u001b[0m\u001b[0;34m)\u001b[0m\u001b[0;34m\u001b[0m\u001b[0;34m\u001b[0m\u001b[0m\n\u001b[0;32m---> 47\u001b[0;31m         \u001b[0mtime\u001b[0m\u001b[0;34m.\u001b[0m\u001b[0msleep\u001b[0m\u001b[0;34m(\u001b[0m\u001b[0;36m1\u001b[0m\u001b[0;34m)\u001b[0m\u001b[0;34m\u001b[0m\u001b[0;34m\u001b[0m\u001b[0m\n\u001b[0m",
      "\u001b[0;31mKeyboardInterrupt\u001b[0m: "
     ]
    }
   ],
   "source": [
    "# Schedule Library imported\n",
    "import schedule\n",
    "import time\n",
    "\n",
    "# Functions setup\n",
    "def sudo_placement():\n",
    "\tprint(\"Get ready for Sudo Placement at Geeksforgeeks\")\n",
    "\n",
    "def good_luck():\n",
    "\tprint(\"Good Luck for Test\")\n",
    "\n",
    "def work():\n",
    "\tprint(\"Study and work hard\")\n",
    "\n",
    "def bedtime():\n",
    "\tprint(\"It is bed time go rest\")\n",
    "\t\n",
    "def geeks():\n",
    "\tprint(\"Shaurya says Geeksforgeeks\")\n",
    "\n",
    "# Task scheduling\n",
    "# After every 10mins geeks() is called.\n",
    "schedule.every(5).seconds.do(geeks)\n",
    "\n",
    "# After every hour geeks() is called.\n",
    "schedule.every().hour.do(geeks)\n",
    "\n",
    "# Every day at 12am or 00:00 time bedtime() is called.\n",
    "schedule.every().day.at(\"00:00\").do(bedtime)\n",
    "\n",
    "# After every 5 to 10mins in between run work()\n",
    "schedule.every(5).to(10).minutes.do(work)\n",
    "\n",
    "# Every monday good_luck() is called\n",
    "schedule.every().monday.do(good_luck)\n",
    "\n",
    "# Every tuesday at 18:00 sudo_placement() is called\n",
    "schedule.every().tuesday.at(\"18:00\").do(sudo_placement)\n",
    "\n",
    "# Loop so that the scheduling task\n",
    "# keeps on running all time.\n",
    "while True:\n",
    "\n",
    "\t# Checks whether a scheduled task\n",
    "\t# is pending to run or not\n",
    "\tschedule.run_pending()\n",
    "\ttime.sleep(1)\n"
   ]
  },
  {
   "cell_type": "code",
   "execution_count": null,
   "metadata": {},
   "outputs": [],
   "source": []
  }
 ]
}